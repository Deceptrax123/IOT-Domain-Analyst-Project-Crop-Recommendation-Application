{
 "cells": [
  {
   "cell_type": "code",
   "execution_count": 1,
   "metadata": {},
   "outputs": [
    {
     "name": "stderr",
     "output_type": "stream",
     "text": [
      "/Users/smudge/Desktop/Code/Uni/iot-project/.venv/lib/python3.9/site-packages/urllib3/__init__.py:35: NotOpenSSLWarning: urllib3 v2 only supports OpenSSL 1.1.1+, currently the 'ssl' module is compiled with 'LibreSSL 2.8.3'. See: https://github.com/urllib3/urllib3/issues/3020\n",
      "  warnings.warn(\n"
     ]
    }
   ],
   "source": [
    "import tensorflow as tf\n",
    "import pandas as pd \n",
    "import numpy as np \n",
    "import matplotlib.pyplot as plt"
   ]
  },
  {
   "cell_type": "code",
   "execution_count": 2,
   "metadata": {},
   "outputs": [
    {
     "data": {
      "text/html": [
       "<div>\n",
       "<style scoped>\n",
       "    .dataframe tbody tr th:only-of-type {\n",
       "        vertical-align: middle;\n",
       "    }\n",
       "\n",
       "    .dataframe tbody tr th {\n",
       "        vertical-align: top;\n",
       "    }\n",
       "\n",
       "    .dataframe thead th {\n",
       "        text-align: right;\n",
       "    }\n",
       "</style>\n",
       "<table border=\"1\" class=\"dataframe\">\n",
       "  <thead>\n",
       "    <tr style=\"text-align: right;\">\n",
       "      <th></th>\n",
       "      <th>N</th>\n",
       "      <th>P</th>\n",
       "      <th>K</th>\n",
       "      <th>temperature</th>\n",
       "      <th>humidity</th>\n",
       "      <th>ph</th>\n",
       "      <th>rainfall</th>\n",
       "      <th>label</th>\n",
       "    </tr>\n",
       "  </thead>\n",
       "  <tbody>\n",
       "    <tr>\n",
       "      <th>0</th>\n",
       "      <td>90</td>\n",
       "      <td>42</td>\n",
       "      <td>43</td>\n",
       "      <td>20.879744</td>\n",
       "      <td>82.002744</td>\n",
       "      <td>6.502985</td>\n",
       "      <td>202.935536</td>\n",
       "      <td>rice</td>\n",
       "    </tr>\n",
       "    <tr>\n",
       "      <th>1</th>\n",
       "      <td>85</td>\n",
       "      <td>58</td>\n",
       "      <td>41</td>\n",
       "      <td>21.770462</td>\n",
       "      <td>80.319644</td>\n",
       "      <td>7.038096</td>\n",
       "      <td>226.655537</td>\n",
       "      <td>rice</td>\n",
       "    </tr>\n",
       "    <tr>\n",
       "      <th>2</th>\n",
       "      <td>60</td>\n",
       "      <td>55</td>\n",
       "      <td>44</td>\n",
       "      <td>23.004459</td>\n",
       "      <td>82.320763</td>\n",
       "      <td>7.840207</td>\n",
       "      <td>263.964248</td>\n",
       "      <td>rice</td>\n",
       "    </tr>\n",
       "    <tr>\n",
       "      <th>3</th>\n",
       "      <td>74</td>\n",
       "      <td>35</td>\n",
       "      <td>40</td>\n",
       "      <td>26.491096</td>\n",
       "      <td>80.158363</td>\n",
       "      <td>6.980401</td>\n",
       "      <td>242.864034</td>\n",
       "      <td>rice</td>\n",
       "    </tr>\n",
       "    <tr>\n",
       "      <th>4</th>\n",
       "      <td>78</td>\n",
       "      <td>42</td>\n",
       "      <td>42</td>\n",
       "      <td>20.130175</td>\n",
       "      <td>81.604873</td>\n",
       "      <td>7.628473</td>\n",
       "      <td>262.717340</td>\n",
       "      <td>rice</td>\n",
       "    </tr>\n",
       "  </tbody>\n",
       "</table>\n",
       "</div>"
      ],
      "text/plain": [
       "    N   P   K  temperature   humidity        ph    rainfall label\n",
       "0  90  42  43    20.879744  82.002744  6.502985  202.935536  rice\n",
       "1  85  58  41    21.770462  80.319644  7.038096  226.655537  rice\n",
       "2  60  55  44    23.004459  82.320763  7.840207  263.964248  rice\n",
       "3  74  35  40    26.491096  80.158363  6.980401  242.864034  rice\n",
       "4  78  42  42    20.130175  81.604873  7.628473  262.717340  rice"
      ]
     },
     "execution_count": 2,
     "metadata": {},
     "output_type": "execute_result"
    }
   ],
   "source": [
    "import os\n",
    "from dotenv import load_dotenv\n",
    "\n",
    "load_dotenv(\".env\")\n",
    "data=os.getenv(\"dataset\")\n",
    "\n",
    "df=pd.read_csv(data)\n",
    "\n",
    "df.head()"
   ]
  },
  {
   "cell_type": "code",
   "execution_count": 3,
   "metadata": {},
   "outputs": [],
   "source": [
    "#Assign Labels to classes\n",
    "labels=list(df['label'].unique())\n",
    "\n",
    "mapping=dict()\n",
    "\n",
    "for i,j in enumerate(labels):\n",
    "    mapping[j]=i\n",
    "\n",
    "df['label']=df['label'].map(mapping)"
   ]
  },
  {
   "cell_type": "code",
   "execution_count": 4,
   "metadata": {},
   "outputs": [],
   "source": [
    "#Normalize\n",
    "columns=['N','P','K','temperature','humidity','ph','rainfall']\n",
    "\n",
    "for i in columns:\n",
    "    df[i]=(df[i]-np.mean(df[i]))/np.std(df[i])"
   ]
  },
  {
   "cell_type": "code",
   "execution_count": 5,
   "metadata": {},
   "outputs": [
    {
     "data": {
      "text/html": [
       "<div>\n",
       "<style scoped>\n",
       "    .dataframe tbody tr th:only-of-type {\n",
       "        vertical-align: middle;\n",
       "    }\n",
       "\n",
       "    .dataframe tbody tr th {\n",
       "        vertical-align: top;\n",
       "    }\n",
       "\n",
       "    .dataframe thead th {\n",
       "        text-align: right;\n",
       "    }\n",
       "</style>\n",
       "<table border=\"1\" class=\"dataframe\">\n",
       "  <thead>\n",
       "    <tr style=\"text-align: right;\">\n",
       "      <th></th>\n",
       "      <th>N</th>\n",
       "      <th>P</th>\n",
       "      <th>K</th>\n",
       "      <th>temperature</th>\n",
       "      <th>humidity</th>\n",
       "      <th>ph</th>\n",
       "      <th>rainfall</th>\n",
       "      <th>label</th>\n",
       "    </tr>\n",
       "  </thead>\n",
       "  <tbody>\n",
       "    <tr>\n",
       "      <th>0</th>\n",
       "      <td>1.068797</td>\n",
       "      <td>-0.344551</td>\n",
       "      <td>-0.101688</td>\n",
       "      <td>-0.935587</td>\n",
       "      <td>0.472666</td>\n",
       "      <td>0.043302</td>\n",
       "      <td>1.810361</td>\n",
       "      <td>0</td>\n",
       "    </tr>\n",
       "    <tr>\n",
       "      <th>1</th>\n",
       "      <td>0.933329</td>\n",
       "      <td>0.140616</td>\n",
       "      <td>-0.141185</td>\n",
       "      <td>-0.759646</td>\n",
       "      <td>0.397051</td>\n",
       "      <td>0.734873</td>\n",
       "      <td>2.242058</td>\n",
       "      <td>0</td>\n",
       "    </tr>\n",
       "    <tr>\n",
       "      <th>2</th>\n",
       "      <td>0.255986</td>\n",
       "      <td>0.049647</td>\n",
       "      <td>-0.081939</td>\n",
       "      <td>-0.515898</td>\n",
       "      <td>0.486954</td>\n",
       "      <td>1.771510</td>\n",
       "      <td>2.921066</td>\n",
       "      <td>0</td>\n",
       "    </tr>\n",
       "    <tr>\n",
       "      <th>3</th>\n",
       "      <td>0.635298</td>\n",
       "      <td>-0.556811</td>\n",
       "      <td>-0.160933</td>\n",
       "      <td>0.172807</td>\n",
       "      <td>0.389805</td>\n",
       "      <td>0.660308</td>\n",
       "      <td>2.537048</td>\n",
       "      <td>0</td>\n",
       "    </tr>\n",
       "    <tr>\n",
       "      <th>4</th>\n",
       "      <td>0.743673</td>\n",
       "      <td>-0.344551</td>\n",
       "      <td>-0.121436</td>\n",
       "      <td>-1.083647</td>\n",
       "      <td>0.454792</td>\n",
       "      <td>1.497868</td>\n",
       "      <td>2.898373</td>\n",
       "      <td>0</td>\n",
       "    </tr>\n",
       "    <tr>\n",
       "      <th>...</th>\n",
       "      <td>...</td>\n",
       "      <td>...</td>\n",
       "      <td>...</td>\n",
       "      <td>...</td>\n",
       "      <td>...</td>\n",
       "      <td>...</td>\n",
       "      <td>...</td>\n",
       "      <td>...</td>\n",
       "    </tr>\n",
       "    <tr>\n",
       "      <th>2195</th>\n",
       "      <td>1.529390</td>\n",
       "      <td>-0.587134</td>\n",
       "      <td>-0.318922</td>\n",
       "      <td>0.228814</td>\n",
       "      <td>-0.227709</td>\n",
       "      <td>0.401395</td>\n",
       "      <td>1.352437</td>\n",
       "      <td>21</td>\n",
       "    </tr>\n",
       "    <tr>\n",
       "      <th>2196</th>\n",
       "      <td>1.312641</td>\n",
       "      <td>-1.163269</td>\n",
       "      <td>-0.417666</td>\n",
       "      <td>0.355720</td>\n",
       "      <td>-0.666947</td>\n",
       "      <td>-0.494413</td>\n",
       "      <td>0.445183</td>\n",
       "      <td>21</td>\n",
       "    </tr>\n",
       "    <tr>\n",
       "      <th>2197</th>\n",
       "      <td>1.827421</td>\n",
       "      <td>-0.617457</td>\n",
       "      <td>-0.358420</td>\n",
       "      <td>-0.293218</td>\n",
       "      <td>-0.191235</td>\n",
       "      <td>-0.138120</td>\n",
       "      <td>1.271418</td>\n",
       "      <td>21</td>\n",
       "    </tr>\n",
       "    <tr>\n",
       "      <th>2198</th>\n",
       "      <td>1.800327</td>\n",
       "      <td>-0.647780</td>\n",
       "      <td>-0.279425</td>\n",
       "      <td>0.129612</td>\n",
       "      <td>-0.869518</td>\n",
       "      <td>0.373904</td>\n",
       "      <td>0.431545</td>\n",
       "      <td>21</td>\n",
       "    </tr>\n",
       "    <tr>\n",
       "      <th>2199</th>\n",
       "      <td>1.448109</td>\n",
       "      <td>-1.072300</td>\n",
       "      <td>-0.358420</td>\n",
       "      <td>-0.397667</td>\n",
       "      <td>-0.498020</td>\n",
       "      <td>0.401096</td>\n",
       "      <td>0.682005</td>\n",
       "      <td>21</td>\n",
       "    </tr>\n",
       "  </tbody>\n",
       "</table>\n",
       "<p>2200 rows × 8 columns</p>\n",
       "</div>"
      ],
      "text/plain": [
       "             N         P         K  temperature  humidity        ph  rainfall  \\\n",
       "0     1.068797 -0.344551 -0.101688    -0.935587  0.472666  0.043302  1.810361   \n",
       "1     0.933329  0.140616 -0.141185    -0.759646  0.397051  0.734873  2.242058   \n",
       "2     0.255986  0.049647 -0.081939    -0.515898  0.486954  1.771510  2.921066   \n",
       "3     0.635298 -0.556811 -0.160933     0.172807  0.389805  0.660308  2.537048   \n",
       "4     0.743673 -0.344551 -0.121436    -1.083647  0.454792  1.497868  2.898373   \n",
       "...        ...       ...       ...          ...       ...       ...       ...   \n",
       "2195  1.529390 -0.587134 -0.318922     0.228814 -0.227709  0.401395  1.352437   \n",
       "2196  1.312641 -1.163269 -0.417666     0.355720 -0.666947 -0.494413  0.445183   \n",
       "2197  1.827421 -0.617457 -0.358420    -0.293218 -0.191235 -0.138120  1.271418   \n",
       "2198  1.800327 -0.647780 -0.279425     0.129612 -0.869518  0.373904  0.431545   \n",
       "2199  1.448109 -1.072300 -0.358420    -0.397667 -0.498020  0.401096  0.682005   \n",
       "\n",
       "      label  \n",
       "0         0  \n",
       "1         0  \n",
       "2         0  \n",
       "3         0  \n",
       "4         0  \n",
       "...     ...  \n",
       "2195     21  \n",
       "2196     21  \n",
       "2197     21  \n",
       "2198     21  \n",
       "2199     21  \n",
       "\n",
       "[2200 rows x 8 columns]"
      ]
     },
     "execution_count": 5,
     "metadata": {},
     "output_type": "execute_result"
    }
   ],
   "source": [
    "df"
   ]
  },
  {
   "cell_type": "code",
   "execution_count": 6,
   "metadata": {},
   "outputs": [],
   "source": [
    "X,y=df.drop(['label'],axis=1),df['label']\n",
    "\n",
    "X=np.array(X)\n",
    "y=np.array(y)"
   ]
  },
  {
   "cell_type": "code",
   "execution_count": 8,
   "metadata": {},
   "outputs": [],
   "source": [
    "from sklearn.model_selection import train_test_split\n",
    "\n",
    "x_train,x_test,y_train,y_test=train_test_split(X,y,train_size=0.75)\n"
   ]
  },
  {
   "cell_type": "code",
   "execution_count": 9,
   "metadata": {},
   "outputs": [],
   "source": [
    "model=tf.keras.Sequential()"
   ]
  },
  {
   "cell_type": "code",
   "execution_count": 10,
   "metadata": {},
   "outputs": [],
   "source": [
    "#Build model using sequential api\n",
    "def model_build(layers=5):\n",
    "   hidden_units=[35,55,45,35,22]\n",
    "   \n",
    "   final=tf.keras.initializers.GlorotNormal(seed=1) \n",
    "   initials=tf.keras.initializers.HeNormal(seed=1) #Initialize weights to get values with 0 means\n",
    "   for i in range(layers):\n",
    "       if i==0:\n",
    "           model.add(tf.keras.layers.Dense(hidden_units[i],activation=\"relu\",kernel_initializer=initials,use_bias=True,bias_initializer=initials,input_shape=(7,)))\n",
    "           model.add(tf.keras.layers.Dropout(rate=0.5))\n",
    "       elif i>0 and i<layers-1:\n",
    "           model.add(tf.keras.layers.Dense(hidden_units[i],activation=\"relu\",kernel_initializer=initials,use_bias=True,bias_initializer=initials))\n",
    "           model.add(tf.keras.layers.Dropout(rate=0.5))\n",
    "       elif i==layers-1:\n",
    "           model.add(tf.keras.layers.Dense(hidden_units[i],activation=\"softmax\",kernel_initializer=final,use_bias=True,bias_initializer=final))"
   ]
  },
  {
   "cell_type": "code",
   "execution_count": 11,
   "metadata": {},
   "outputs": [],
   "source": [
    "def model_run(x_train,y_train,x_test,y_test,learning_rate=0.001,num_epochs=200,batchSize=32,show_costs=1): #Define hyperparameters for training\n",
    "    algo=tf.keras.optimizers.Adam(learning_rate)\n",
    "    model.compile(optimizer=algo,loss=tf.keras.losses.SparseCategoricalCrossentropy(),metrics=[tf.keras.metrics.SparseCategoricalAccuracy()])\n",
    "    learning=model.fit(x_train,y_train,epochs=num_epochs,batch_size=batchSize,verbose=show_costs,validation_data=(x_test,y_test))\n",
    "    \n",
    "    return learning"
   ]
  },
  {
   "cell_type": "code",
   "execution_count": 12,
   "metadata": {},
   "outputs": [
    {
     "name": "stderr",
     "output_type": "stream",
     "text": [
      "/Users/smudge/Desktop/Code/Uni/iot-project/.venv/lib/python3.9/site-packages/keras/src/layers/core/dense.py:88: UserWarning: Do not pass an `input_shape`/`input_dim` argument to a layer. When using Sequential models, prefer using an `Input(shape)` object as the first layer in the model instead.\n",
      "  super().__init__(activity_regularizer=activity_regularizer, **kwargs)\n"
     ]
    }
   ],
   "source": [
    "model_build()"
   ]
  },
  {
   "cell_type": "code",
   "execution_count": 13,
   "metadata": {},
   "outputs": [
    {
     "data": {
      "text/html": [
       "<pre style=\"white-space:pre;overflow-x:auto;line-height:normal;font-family:Menlo,'DejaVu Sans Mono',consolas,'Courier New',monospace\"><span style=\"font-weight: bold\">Model: \"sequential\"</span>\n",
       "</pre>\n"
      ],
      "text/plain": [
       "\u001b[1mModel: \"sequential\"\u001b[0m\n"
      ]
     },
     "metadata": {},
     "output_type": "display_data"
    },
    {
     "data": {
      "text/html": [
       "<pre style=\"white-space:pre;overflow-x:auto;line-height:normal;font-family:Menlo,'DejaVu Sans Mono',consolas,'Courier New',monospace\">┏━━━━━━━━━━━━━━━━━━━━━━━━━━━━━━━━━┳━━━━━━━━━━━━━━━━━━━━━━━━┳━━━━━━━━━━━━━━━┓\n",
       "┃<span style=\"font-weight: bold\"> Layer (type)                    </span>┃<span style=\"font-weight: bold\"> Output Shape           </span>┃<span style=\"font-weight: bold\">       Param # </span>┃\n",
       "┡━━━━━━━━━━━━━━━━━━━━━━━━━━━━━━━━━╇━━━━━━━━━━━━━━━━━━━━━━━━╇━━━━━━━━━━━━━━━┩\n",
       "│ dense (<span style=\"color: #0087ff; text-decoration-color: #0087ff\">Dense</span>)                   │ (<span style=\"color: #00d7ff; text-decoration-color: #00d7ff\">None</span>, <span style=\"color: #00af00; text-decoration-color: #00af00\">35</span>)             │           <span style=\"color: #00af00; text-decoration-color: #00af00\">280</span> │\n",
       "├─────────────────────────────────┼────────────────────────┼───────────────┤\n",
       "│ dropout (<span style=\"color: #0087ff; text-decoration-color: #0087ff\">Dropout</span>)               │ (<span style=\"color: #00d7ff; text-decoration-color: #00d7ff\">None</span>, <span style=\"color: #00af00; text-decoration-color: #00af00\">35</span>)             │             <span style=\"color: #00af00; text-decoration-color: #00af00\">0</span> │\n",
       "├─────────────────────────────────┼────────────────────────┼───────────────┤\n",
       "│ dense_1 (<span style=\"color: #0087ff; text-decoration-color: #0087ff\">Dense</span>)                 │ (<span style=\"color: #00d7ff; text-decoration-color: #00d7ff\">None</span>, <span style=\"color: #00af00; text-decoration-color: #00af00\">55</span>)             │         <span style=\"color: #00af00; text-decoration-color: #00af00\">1,980</span> │\n",
       "├─────────────────────────────────┼────────────────────────┼───────────────┤\n",
       "│ dropout_1 (<span style=\"color: #0087ff; text-decoration-color: #0087ff\">Dropout</span>)             │ (<span style=\"color: #00d7ff; text-decoration-color: #00d7ff\">None</span>, <span style=\"color: #00af00; text-decoration-color: #00af00\">55</span>)             │             <span style=\"color: #00af00; text-decoration-color: #00af00\">0</span> │\n",
       "├─────────────────────────────────┼────────────────────────┼───────────────┤\n",
       "│ dense_2 (<span style=\"color: #0087ff; text-decoration-color: #0087ff\">Dense</span>)                 │ (<span style=\"color: #00d7ff; text-decoration-color: #00d7ff\">None</span>, <span style=\"color: #00af00; text-decoration-color: #00af00\">45</span>)             │         <span style=\"color: #00af00; text-decoration-color: #00af00\">2,520</span> │\n",
       "├─────────────────────────────────┼────────────────────────┼───────────────┤\n",
       "│ dropout_2 (<span style=\"color: #0087ff; text-decoration-color: #0087ff\">Dropout</span>)             │ (<span style=\"color: #00d7ff; text-decoration-color: #00d7ff\">None</span>, <span style=\"color: #00af00; text-decoration-color: #00af00\">45</span>)             │             <span style=\"color: #00af00; text-decoration-color: #00af00\">0</span> │\n",
       "├─────────────────────────────────┼────────────────────────┼───────────────┤\n",
       "│ dense_3 (<span style=\"color: #0087ff; text-decoration-color: #0087ff\">Dense</span>)                 │ (<span style=\"color: #00d7ff; text-decoration-color: #00d7ff\">None</span>, <span style=\"color: #00af00; text-decoration-color: #00af00\">35</span>)             │         <span style=\"color: #00af00; text-decoration-color: #00af00\">1,610</span> │\n",
       "├─────────────────────────────────┼────────────────────────┼───────────────┤\n",
       "│ dropout_3 (<span style=\"color: #0087ff; text-decoration-color: #0087ff\">Dropout</span>)             │ (<span style=\"color: #00d7ff; text-decoration-color: #00d7ff\">None</span>, <span style=\"color: #00af00; text-decoration-color: #00af00\">35</span>)             │             <span style=\"color: #00af00; text-decoration-color: #00af00\">0</span> │\n",
       "├─────────────────────────────────┼────────────────────────┼───────────────┤\n",
       "│ dense_4 (<span style=\"color: #0087ff; text-decoration-color: #0087ff\">Dense</span>)                 │ (<span style=\"color: #00d7ff; text-decoration-color: #00d7ff\">None</span>, <span style=\"color: #00af00; text-decoration-color: #00af00\">1</span>)              │            <span style=\"color: #00af00; text-decoration-color: #00af00\">36</span> │\n",
       "└─────────────────────────────────┴────────────────────────┴───────────────┘\n",
       "</pre>\n"
      ],
      "text/plain": [
       "┏━━━━━━━━━━━━━━━━━━━━━━━━━━━━━━━━━┳━━━━━━━━━━━━━━━━━━━━━━━━┳━━━━━━━━━━━━━━━┓\n",
       "┃\u001b[1m \u001b[0m\u001b[1mLayer (type)                   \u001b[0m\u001b[1m \u001b[0m┃\u001b[1m \u001b[0m\u001b[1mOutput Shape          \u001b[0m\u001b[1m \u001b[0m┃\u001b[1m \u001b[0m\u001b[1m      Param #\u001b[0m\u001b[1m \u001b[0m┃\n",
       "┡━━━━━━━━━━━━━━━━━━━━━━━━━━━━━━━━━╇━━━━━━━━━━━━━━━━━━━━━━━━╇━━━━━━━━━━━━━━━┩\n",
       "│ dense (\u001b[38;5;33mDense\u001b[0m)                   │ (\u001b[38;5;45mNone\u001b[0m, \u001b[38;5;34m35\u001b[0m)             │           \u001b[38;5;34m280\u001b[0m │\n",
       "├─────────────────────────────────┼────────────────────────┼───────────────┤\n",
       "│ dropout (\u001b[38;5;33mDropout\u001b[0m)               │ (\u001b[38;5;45mNone\u001b[0m, \u001b[38;5;34m35\u001b[0m)             │             \u001b[38;5;34m0\u001b[0m │\n",
       "├─────────────────────────────────┼────────────────────────┼───────────────┤\n",
       "│ dense_1 (\u001b[38;5;33mDense\u001b[0m)                 │ (\u001b[38;5;45mNone\u001b[0m, \u001b[38;5;34m55\u001b[0m)             │         \u001b[38;5;34m1,980\u001b[0m │\n",
       "├─────────────────────────────────┼────────────────────────┼───────────────┤\n",
       "│ dropout_1 (\u001b[38;5;33mDropout\u001b[0m)             │ (\u001b[38;5;45mNone\u001b[0m, \u001b[38;5;34m55\u001b[0m)             │             \u001b[38;5;34m0\u001b[0m │\n",
       "├─────────────────────────────────┼────────────────────────┼───────────────┤\n",
       "│ dense_2 (\u001b[38;5;33mDense\u001b[0m)                 │ (\u001b[38;5;45mNone\u001b[0m, \u001b[38;5;34m45\u001b[0m)             │         \u001b[38;5;34m2,520\u001b[0m │\n",
       "├─────────────────────────────────┼────────────────────────┼───────────────┤\n",
       "│ dropout_2 (\u001b[38;5;33mDropout\u001b[0m)             │ (\u001b[38;5;45mNone\u001b[0m, \u001b[38;5;34m45\u001b[0m)             │             \u001b[38;5;34m0\u001b[0m │\n",
       "├─────────────────────────────────┼────────────────────────┼───────────────┤\n",
       "│ dense_3 (\u001b[38;5;33mDense\u001b[0m)                 │ (\u001b[38;5;45mNone\u001b[0m, \u001b[38;5;34m35\u001b[0m)             │         \u001b[38;5;34m1,610\u001b[0m │\n",
       "├─────────────────────────────────┼────────────────────────┼───────────────┤\n",
       "│ dropout_3 (\u001b[38;5;33mDropout\u001b[0m)             │ (\u001b[38;5;45mNone\u001b[0m, \u001b[38;5;34m35\u001b[0m)             │             \u001b[38;5;34m0\u001b[0m │\n",
       "├─────────────────────────────────┼────────────────────────┼───────────────┤\n",
       "│ dense_4 (\u001b[38;5;33mDense\u001b[0m)                 │ (\u001b[38;5;45mNone\u001b[0m, \u001b[38;5;34m1\u001b[0m)              │            \u001b[38;5;34m36\u001b[0m │\n",
       "└─────────────────────────────────┴────────────────────────┴───────────────┘\n"
      ]
     },
     "metadata": {},
     "output_type": "display_data"
    },
    {
     "data": {
      "text/html": [
       "<pre style=\"white-space:pre;overflow-x:auto;line-height:normal;font-family:Menlo,'DejaVu Sans Mono',consolas,'Courier New',monospace\"><span style=\"font-weight: bold\"> Total params: </span><span style=\"color: #00af00; text-decoration-color: #00af00\">6,426</span> (25.10 KB)\n",
       "</pre>\n"
      ],
      "text/plain": [
       "\u001b[1m Total params: \u001b[0m\u001b[38;5;34m6,426\u001b[0m (25.10 KB)\n"
      ]
     },
     "metadata": {},
     "output_type": "display_data"
    },
    {
     "data": {
      "text/html": [
       "<pre style=\"white-space:pre;overflow-x:auto;line-height:normal;font-family:Menlo,'DejaVu Sans Mono',consolas,'Courier New',monospace\"><span style=\"font-weight: bold\"> Trainable params: </span><span style=\"color: #00af00; text-decoration-color: #00af00\">6,426</span> (25.10 KB)\n",
       "</pre>\n"
      ],
      "text/plain": [
       "\u001b[1m Trainable params: \u001b[0m\u001b[38;5;34m6,426\u001b[0m (25.10 KB)\n"
      ]
     },
     "metadata": {},
     "output_type": "display_data"
    },
    {
     "data": {
      "text/html": [
       "<pre style=\"white-space:pre;overflow-x:auto;line-height:normal;font-family:Menlo,'DejaVu Sans Mono',consolas,'Courier New',monospace\"><span style=\"font-weight: bold\"> Non-trainable params: </span><span style=\"color: #00af00; text-decoration-color: #00af00\">0</span> (0.00 B)\n",
       "</pre>\n"
      ],
      "text/plain": [
       "\u001b[1m Non-trainable params: \u001b[0m\u001b[38;5;34m0\u001b[0m (0.00 B)\n"
      ]
     },
     "metadata": {},
     "output_type": "display_data"
    }
   ],
   "source": [
    "model.summary()"
   ]
  },
  {
   "cell_type": "code",
   "execution_count": 14,
   "metadata": {},
   "outputs": [
    {
     "name": "stdout",
     "output_type": "stream",
     "text": [
      "Epoch 1/200\n"
     ]
    },
    {
     "name": "stderr",
     "output_type": "stream",
     "text": [
      "/Users/smudge/Desktop/Code/Uni/iot-project/.venv/lib/python3.9/site-packages/keras/src/ops/nn.py:545: UserWarning: You are using a softmax over axis -1 of a tensor of shape (None, 1). This axis has size 1. The softmax operation will always return the value 1, which is likely not what you intended. Did you mean to use a sigmoid instead?\n",
      "  warnings.warn(\n",
      "2024-04-07 13:43:55.983087: W tensorflow/core/framework/op_kernel.cc:1839] OP_REQUIRES failed at sparse_xent_op.cc:103 : INVALID_ARGUMENT: Received a label value of 21 which is outside the valid range of [0, 1).  Label values: 0 16 13 5 9 0 20 10 16 0 11 14 2 19 21 2 7 4 12 19 12 2 15 16 11 5 14 15 18 15 20 7\n",
      "2024-04-07 13:43:55.983122: W tensorflow/core/framework/local_rendezvous.cc:404] Local rendezvous is aborting with status: INVALID_ARGUMENT: Received a label value of 21 which is outside the valid range of [0, 1).  Label values: 0 16 13 5 9 0 20 10 16 0 11 14 2 19 21 2 7 4 12 19 12 2 15 16 11 5 14 15 18 15 20 7\n",
      "\t [[{{function_node __inference_one_step_on_data_2047}}{{node compile_loss/sparse_categorical_crossentropy/SparseSoftmaxCrossEntropyWithLogits/SparseSoftmaxCrossEntropyWithLogits}}]]\n"
     ]
    },
    {
     "ename": "InvalidArgumentError",
     "evalue": "Graph execution error:\n\nDetected at node compile_loss/sparse_categorical_crossentropy/SparseSoftmaxCrossEntropyWithLogits/SparseSoftmaxCrossEntropyWithLogits defined at (most recent call last):\n  File \"/Applications/Xcode.app/Contents/Developer/Library/Frameworks/Python3.framework/Versions/3.9/lib/python3.9/runpy.py\", line 197, in _run_module_as_main\n\n  File \"/Applications/Xcode.app/Contents/Developer/Library/Frameworks/Python3.framework/Versions/3.9/lib/python3.9/runpy.py\", line 87, in _run_code\n\n  File \"/Users/smudge/Desktop/Code/Uni/iot-project/.venv/lib/python3.9/site-packages/ipykernel_launcher.py\", line 18, in <module>\n\n  File \"/Users/smudge/Desktop/Code/Uni/iot-project/.venv/lib/python3.9/site-packages/traitlets/config/application.py\", line 1075, in launch_instance\n\n  File \"/Users/smudge/Desktop/Code/Uni/iot-project/.venv/lib/python3.9/site-packages/ipykernel/kernelapp.py\", line 739, in start\n\n  File \"/Users/smudge/Desktop/Code/Uni/iot-project/.venv/lib/python3.9/site-packages/tornado/platform/asyncio.py\", line 205, in start\n\n  File \"/Applications/Xcode.app/Contents/Developer/Library/Frameworks/Python3.framework/Versions/3.9/lib/python3.9/asyncio/base_events.py\", line 596, in run_forever\n\n  File \"/Applications/Xcode.app/Contents/Developer/Library/Frameworks/Python3.framework/Versions/3.9/lib/python3.9/asyncio/base_events.py\", line 1890, in _run_once\n\n  File \"/Applications/Xcode.app/Contents/Developer/Library/Frameworks/Python3.framework/Versions/3.9/lib/python3.9/asyncio/events.py\", line 80, in _run\n\n  File \"/Users/smudge/Desktop/Code/Uni/iot-project/.venv/lib/python3.9/site-packages/ipykernel/kernelbase.py\", line 545, in dispatch_queue\n\n  File \"/Users/smudge/Desktop/Code/Uni/iot-project/.venv/lib/python3.9/site-packages/ipykernel/kernelbase.py\", line 534, in process_one\n\n  File \"/Users/smudge/Desktop/Code/Uni/iot-project/.venv/lib/python3.9/site-packages/ipykernel/kernelbase.py\", line 437, in dispatch_shell\n\n  File \"/Users/smudge/Desktop/Code/Uni/iot-project/.venv/lib/python3.9/site-packages/ipykernel/ipkernel.py\", line 362, in execute_request\n\n  File \"/Users/smudge/Desktop/Code/Uni/iot-project/.venv/lib/python3.9/site-packages/ipykernel/kernelbase.py\", line 778, in execute_request\n\n  File \"/Users/smudge/Desktop/Code/Uni/iot-project/.venv/lib/python3.9/site-packages/ipykernel/ipkernel.py\", line 449, in do_execute\n\n  File \"/Users/smudge/Desktop/Code/Uni/iot-project/.venv/lib/python3.9/site-packages/ipykernel/zmqshell.py\", line 549, in run_cell\n\n  File \"/Users/smudge/Desktop/Code/Uni/iot-project/.venv/lib/python3.9/site-packages/IPython/core/interactiveshell.py\", line 3048, in run_cell\n\n  File \"/Users/smudge/Desktop/Code/Uni/iot-project/.venv/lib/python3.9/site-packages/IPython/core/interactiveshell.py\", line 3103, in _run_cell\n\n  File \"/Users/smudge/Desktop/Code/Uni/iot-project/.venv/lib/python3.9/site-packages/IPython/core/async_helpers.py\", line 129, in _pseudo_sync_runner\n\n  File \"/Users/smudge/Desktop/Code/Uni/iot-project/.venv/lib/python3.9/site-packages/IPython/core/interactiveshell.py\", line 3308, in run_cell_async\n\n  File \"/Users/smudge/Desktop/Code/Uni/iot-project/.venv/lib/python3.9/site-packages/IPython/core/interactiveshell.py\", line 3490, in run_ast_nodes\n\n  File \"/Users/smudge/Desktop/Code/Uni/iot-project/.venv/lib/python3.9/site-packages/IPython/core/interactiveshell.py\", line 3550, in run_code\n\n  File \"/var/folders/m7/fg2s2g0x5tdfqnlsn52yrt3w0000gn/T/ipykernel_12841/3675131375.py\", line 1, in <module>\n\n  File \"/var/folders/m7/fg2s2g0x5tdfqnlsn52yrt3w0000gn/T/ipykernel_12841/1664224124.py\", line 4, in model_run\n\n  File \"/Users/smudge/Desktop/Code/Uni/iot-project/.venv/lib/python3.9/site-packages/keras/src/utils/traceback_utils.py\", line 117, in error_handler\n\n  File \"/Users/smudge/Desktop/Code/Uni/iot-project/.venv/lib/python3.9/site-packages/keras/src/backend/tensorflow/trainer.py\", line 325, in fit\n\n  File \"/Users/smudge/Desktop/Code/Uni/iot-project/.venv/lib/python3.9/site-packages/keras/src/backend/tensorflow/trainer.py\", line 118, in one_step_on_iterator\n\n  File \"/Users/smudge/Desktop/Code/Uni/iot-project/.venv/lib/python3.9/site-packages/keras/src/backend/tensorflow/trainer.py\", line 106, in one_step_on_data\n\n  File \"/Users/smudge/Desktop/Code/Uni/iot-project/.venv/lib/python3.9/site-packages/keras/src/backend/tensorflow/trainer.py\", line 60, in train_step\n\n  File \"/Users/smudge/Desktop/Code/Uni/iot-project/.venv/lib/python3.9/site-packages/keras/src/trainers/trainer.py\", line 322, in compute_loss\n\n  File \"/Users/smudge/Desktop/Code/Uni/iot-project/.venv/lib/python3.9/site-packages/keras/src/trainers/compile_utils.py\", line 605, in __call__\n\n  File \"/Users/smudge/Desktop/Code/Uni/iot-project/.venv/lib/python3.9/site-packages/keras/src/trainers/compile_utils.py\", line 641, in call\n\n  File \"/Users/smudge/Desktop/Code/Uni/iot-project/.venv/lib/python3.9/site-packages/keras/src/losses/loss.py\", line 42, in __call__\n\n  File \"/Users/smudge/Desktop/Code/Uni/iot-project/.venv/lib/python3.9/site-packages/keras/src/losses/losses.py\", line 22, in call\n\n  File \"/Users/smudge/Desktop/Code/Uni/iot-project/.venv/lib/python3.9/site-packages/keras/src/losses/losses.py\", line 1714, in sparse_categorical_crossentropy\n\n  File \"/Users/smudge/Desktop/Code/Uni/iot-project/.venv/lib/python3.9/site-packages/keras/src/ops/nn.py\", line 1554, in sparse_categorical_crossentropy\n\n  File \"/Users/smudge/Desktop/Code/Uni/iot-project/.venv/lib/python3.9/site-packages/keras/src/backend/tensorflow/nn.py\", line 633, in sparse_categorical_crossentropy\n\nReceived a label value of 21 which is outside the valid range of [0, 1).  Label values: 0 16 13 5 9 0 20 10 16 0 11 14 2 19 21 2 7 4 12 19 12 2 15 16 11 5 14 15 18 15 20 7\n\t [[{{node compile_loss/sparse_categorical_crossentropy/SparseSoftmaxCrossEntropyWithLogits/SparseSoftmaxCrossEntropyWithLogits}}]] [Op:__inference_one_step_on_iterator_2132]",
     "output_type": "error",
     "traceback": [
      "\u001b[0;31m---------------------------------------------------------------------------\u001b[0m",
      "\u001b[0;31mInvalidArgumentError\u001b[0m                      Traceback (most recent call last)",
      "Cell \u001b[0;32mIn[14], line 1\u001b[0m\n\u001b[0;32m----> 1\u001b[0m learning\u001b[38;5;241m=\u001b[39m\u001b[43mmodel_run\u001b[49m\u001b[43m(\u001b[49m\u001b[43mx_train\u001b[49m\u001b[43m,\u001b[49m\u001b[43my_train\u001b[49m\u001b[43m,\u001b[49m\u001b[43mx_test\u001b[49m\u001b[43m,\u001b[49m\u001b[43my_test\u001b[49m\u001b[43m)\u001b[49m\n",
      "Cell \u001b[0;32mIn[11], line 4\u001b[0m, in \u001b[0;36mmodel_run\u001b[0;34m(x_train, y_train, x_test, y_test, learning_rate, num_epochs, batchSize, show_costs)\u001b[0m\n\u001b[1;32m      2\u001b[0m algo\u001b[38;5;241m=\u001b[39mtf\u001b[38;5;241m.\u001b[39mkeras\u001b[38;5;241m.\u001b[39moptimizers\u001b[38;5;241m.\u001b[39mAdam(learning_rate)\n\u001b[1;32m      3\u001b[0m model\u001b[38;5;241m.\u001b[39mcompile(optimizer\u001b[38;5;241m=\u001b[39malgo,loss\u001b[38;5;241m=\u001b[39mtf\u001b[38;5;241m.\u001b[39mkeras\u001b[38;5;241m.\u001b[39mlosses\u001b[38;5;241m.\u001b[39mSparseCategoricalCrossentropy(),metrics\u001b[38;5;241m=\u001b[39m[tf\u001b[38;5;241m.\u001b[39mkeras\u001b[38;5;241m.\u001b[39mmetrics\u001b[38;5;241m.\u001b[39mSparseCategoricalAccuracy()])\n\u001b[0;32m----> 4\u001b[0m learning\u001b[38;5;241m=\u001b[39m\u001b[43mmodel\u001b[49m\u001b[38;5;241;43m.\u001b[39;49m\u001b[43mfit\u001b[49m\u001b[43m(\u001b[49m\u001b[43mx_train\u001b[49m\u001b[43m,\u001b[49m\u001b[43my_train\u001b[49m\u001b[43m,\u001b[49m\u001b[43mepochs\u001b[49m\u001b[38;5;241;43m=\u001b[39;49m\u001b[43mnum_epochs\u001b[49m\u001b[43m,\u001b[49m\u001b[43mbatch_size\u001b[49m\u001b[38;5;241;43m=\u001b[39;49m\u001b[43mbatchSize\u001b[49m\u001b[43m,\u001b[49m\u001b[43mverbose\u001b[49m\u001b[38;5;241;43m=\u001b[39;49m\u001b[43mshow_costs\u001b[49m\u001b[43m,\u001b[49m\u001b[43mvalidation_data\u001b[49m\u001b[38;5;241;43m=\u001b[39;49m\u001b[43m(\u001b[49m\u001b[43mx_test\u001b[49m\u001b[43m,\u001b[49m\u001b[43my_test\u001b[49m\u001b[43m)\u001b[49m\u001b[43m)\u001b[49m\n\u001b[1;32m      6\u001b[0m \u001b[38;5;28;01mreturn\u001b[39;00m learning\n",
      "File \u001b[0;32m~/Desktop/Code/Uni/iot-project/.venv/lib/python3.9/site-packages/keras/src/utils/traceback_utils.py:122\u001b[0m, in \u001b[0;36mfilter_traceback.<locals>.error_handler\u001b[0;34m(*args, **kwargs)\u001b[0m\n\u001b[1;32m    119\u001b[0m     filtered_tb \u001b[38;5;241m=\u001b[39m _process_traceback_frames(e\u001b[38;5;241m.\u001b[39m__traceback__)\n\u001b[1;32m    120\u001b[0m     \u001b[38;5;66;03m# To get the full stack trace, call:\u001b[39;00m\n\u001b[1;32m    121\u001b[0m     \u001b[38;5;66;03m# `keras.config.disable_traceback_filtering()`\u001b[39;00m\n\u001b[0;32m--> 122\u001b[0m     \u001b[38;5;28;01mraise\u001b[39;00m e\u001b[38;5;241m.\u001b[39mwith_traceback(filtered_tb) \u001b[38;5;28;01mfrom\u001b[39;00m \u001b[38;5;28;01mNone\u001b[39;00m\n\u001b[1;32m    123\u001b[0m \u001b[38;5;28;01mfinally\u001b[39;00m:\n\u001b[1;32m    124\u001b[0m     \u001b[38;5;28;01mdel\u001b[39;00m filtered_tb\n",
      "File \u001b[0;32m~/Desktop/Code/Uni/iot-project/.venv/lib/python3.9/site-packages/tensorflow/python/eager/execute.py:53\u001b[0m, in \u001b[0;36mquick_execute\u001b[0;34m(op_name, num_outputs, inputs, attrs, ctx, name)\u001b[0m\n\u001b[1;32m     51\u001b[0m \u001b[38;5;28;01mtry\u001b[39;00m:\n\u001b[1;32m     52\u001b[0m   ctx\u001b[38;5;241m.\u001b[39mensure_initialized()\n\u001b[0;32m---> 53\u001b[0m   tensors \u001b[38;5;241m=\u001b[39m pywrap_tfe\u001b[38;5;241m.\u001b[39mTFE_Py_Execute(ctx\u001b[38;5;241m.\u001b[39m_handle, device_name, op_name,\n\u001b[1;32m     54\u001b[0m                                       inputs, attrs, num_outputs)\n\u001b[1;32m     55\u001b[0m \u001b[38;5;28;01mexcept\u001b[39;00m core\u001b[38;5;241m.\u001b[39m_NotOkStatusException \u001b[38;5;28;01mas\u001b[39;00m e:\n\u001b[1;32m     56\u001b[0m   \u001b[38;5;28;01mif\u001b[39;00m name \u001b[38;5;129;01mis\u001b[39;00m \u001b[38;5;129;01mnot\u001b[39;00m \u001b[38;5;28;01mNone\u001b[39;00m:\n",
      "\u001b[0;31mInvalidArgumentError\u001b[0m: Graph execution error:\n\nDetected at node compile_loss/sparse_categorical_crossentropy/SparseSoftmaxCrossEntropyWithLogits/SparseSoftmaxCrossEntropyWithLogits defined at (most recent call last):\n  File \"/Applications/Xcode.app/Contents/Developer/Library/Frameworks/Python3.framework/Versions/3.9/lib/python3.9/runpy.py\", line 197, in _run_module_as_main\n\n  File \"/Applications/Xcode.app/Contents/Developer/Library/Frameworks/Python3.framework/Versions/3.9/lib/python3.9/runpy.py\", line 87, in _run_code\n\n  File \"/Users/smudge/Desktop/Code/Uni/iot-project/.venv/lib/python3.9/site-packages/ipykernel_launcher.py\", line 18, in <module>\n\n  File \"/Users/smudge/Desktop/Code/Uni/iot-project/.venv/lib/python3.9/site-packages/traitlets/config/application.py\", line 1075, in launch_instance\n\n  File \"/Users/smudge/Desktop/Code/Uni/iot-project/.venv/lib/python3.9/site-packages/ipykernel/kernelapp.py\", line 739, in start\n\n  File \"/Users/smudge/Desktop/Code/Uni/iot-project/.venv/lib/python3.9/site-packages/tornado/platform/asyncio.py\", line 205, in start\n\n  File \"/Applications/Xcode.app/Contents/Developer/Library/Frameworks/Python3.framework/Versions/3.9/lib/python3.9/asyncio/base_events.py\", line 596, in run_forever\n\n  File \"/Applications/Xcode.app/Contents/Developer/Library/Frameworks/Python3.framework/Versions/3.9/lib/python3.9/asyncio/base_events.py\", line 1890, in _run_once\n\n  File \"/Applications/Xcode.app/Contents/Developer/Library/Frameworks/Python3.framework/Versions/3.9/lib/python3.9/asyncio/events.py\", line 80, in _run\n\n  File \"/Users/smudge/Desktop/Code/Uni/iot-project/.venv/lib/python3.9/site-packages/ipykernel/kernelbase.py\", line 545, in dispatch_queue\n\n  File \"/Users/smudge/Desktop/Code/Uni/iot-project/.venv/lib/python3.9/site-packages/ipykernel/kernelbase.py\", line 534, in process_one\n\n  File \"/Users/smudge/Desktop/Code/Uni/iot-project/.venv/lib/python3.9/site-packages/ipykernel/kernelbase.py\", line 437, in dispatch_shell\n\n  File \"/Users/smudge/Desktop/Code/Uni/iot-project/.venv/lib/python3.9/site-packages/ipykernel/ipkernel.py\", line 362, in execute_request\n\n  File \"/Users/smudge/Desktop/Code/Uni/iot-project/.venv/lib/python3.9/site-packages/ipykernel/kernelbase.py\", line 778, in execute_request\n\n  File \"/Users/smudge/Desktop/Code/Uni/iot-project/.venv/lib/python3.9/site-packages/ipykernel/ipkernel.py\", line 449, in do_execute\n\n  File \"/Users/smudge/Desktop/Code/Uni/iot-project/.venv/lib/python3.9/site-packages/ipykernel/zmqshell.py\", line 549, in run_cell\n\n  File \"/Users/smudge/Desktop/Code/Uni/iot-project/.venv/lib/python3.9/site-packages/IPython/core/interactiveshell.py\", line 3048, in run_cell\n\n  File \"/Users/smudge/Desktop/Code/Uni/iot-project/.venv/lib/python3.9/site-packages/IPython/core/interactiveshell.py\", line 3103, in _run_cell\n\n  File \"/Users/smudge/Desktop/Code/Uni/iot-project/.venv/lib/python3.9/site-packages/IPython/core/async_helpers.py\", line 129, in _pseudo_sync_runner\n\n  File \"/Users/smudge/Desktop/Code/Uni/iot-project/.venv/lib/python3.9/site-packages/IPython/core/interactiveshell.py\", line 3308, in run_cell_async\n\n  File \"/Users/smudge/Desktop/Code/Uni/iot-project/.venv/lib/python3.9/site-packages/IPython/core/interactiveshell.py\", line 3490, in run_ast_nodes\n\n  File \"/Users/smudge/Desktop/Code/Uni/iot-project/.venv/lib/python3.9/site-packages/IPython/core/interactiveshell.py\", line 3550, in run_code\n\n  File \"/var/folders/m7/fg2s2g0x5tdfqnlsn52yrt3w0000gn/T/ipykernel_12841/3675131375.py\", line 1, in <module>\n\n  File \"/var/folders/m7/fg2s2g0x5tdfqnlsn52yrt3w0000gn/T/ipykernel_12841/1664224124.py\", line 4, in model_run\n\n  File \"/Users/smudge/Desktop/Code/Uni/iot-project/.venv/lib/python3.9/site-packages/keras/src/utils/traceback_utils.py\", line 117, in error_handler\n\n  File \"/Users/smudge/Desktop/Code/Uni/iot-project/.venv/lib/python3.9/site-packages/keras/src/backend/tensorflow/trainer.py\", line 325, in fit\n\n  File \"/Users/smudge/Desktop/Code/Uni/iot-project/.venv/lib/python3.9/site-packages/keras/src/backend/tensorflow/trainer.py\", line 118, in one_step_on_iterator\n\n  File \"/Users/smudge/Desktop/Code/Uni/iot-project/.venv/lib/python3.9/site-packages/keras/src/backend/tensorflow/trainer.py\", line 106, in one_step_on_data\n\n  File \"/Users/smudge/Desktop/Code/Uni/iot-project/.venv/lib/python3.9/site-packages/keras/src/backend/tensorflow/trainer.py\", line 60, in train_step\n\n  File \"/Users/smudge/Desktop/Code/Uni/iot-project/.venv/lib/python3.9/site-packages/keras/src/trainers/trainer.py\", line 322, in compute_loss\n\n  File \"/Users/smudge/Desktop/Code/Uni/iot-project/.venv/lib/python3.9/site-packages/keras/src/trainers/compile_utils.py\", line 605, in __call__\n\n  File \"/Users/smudge/Desktop/Code/Uni/iot-project/.venv/lib/python3.9/site-packages/keras/src/trainers/compile_utils.py\", line 641, in call\n\n  File \"/Users/smudge/Desktop/Code/Uni/iot-project/.venv/lib/python3.9/site-packages/keras/src/losses/loss.py\", line 42, in __call__\n\n  File \"/Users/smudge/Desktop/Code/Uni/iot-project/.venv/lib/python3.9/site-packages/keras/src/losses/losses.py\", line 22, in call\n\n  File \"/Users/smudge/Desktop/Code/Uni/iot-project/.venv/lib/python3.9/site-packages/keras/src/losses/losses.py\", line 1714, in sparse_categorical_crossentropy\n\n  File \"/Users/smudge/Desktop/Code/Uni/iot-project/.venv/lib/python3.9/site-packages/keras/src/ops/nn.py\", line 1554, in sparse_categorical_crossentropy\n\n  File \"/Users/smudge/Desktop/Code/Uni/iot-project/.venv/lib/python3.9/site-packages/keras/src/backend/tensorflow/nn.py\", line 633, in sparse_categorical_crossentropy\n\nReceived a label value of 21 which is outside the valid range of [0, 1).  Label values: 0 16 13 5 9 0 20 10 16 0 11 14 2 19 21 2 7 4 12 19 12 2 15 16 11 5 14 15 18 15 20 7\n\t [[{{node compile_loss/sparse_categorical_crossentropy/SparseSoftmaxCrossEntropyWithLogits/SparseSoftmaxCrossEntropyWithLogits}}]] [Op:__inference_one_step_on_iterator_2132]"
     ]
    }
   ],
   "source": [
    "learning=model_run(x_train,y_train,x_test,y_test)"
   ]
  },
  {
   "cell_type": "code",
   "execution_count": null,
   "metadata": {},
   "outputs": [],
   "source": []
  }
 ],
 "metadata": {
  "kernelspec": {
   "display_name": ".venv",
   "language": "python",
   "name": "python3"
  },
  "language_info": {
   "codemirror_mode": {
    "name": "ipython",
    "version": 3
   },
   "file_extension": ".py",
   "mimetype": "text/x-python",
   "name": "python",
   "nbconvert_exporter": "python",
   "pygments_lexer": "ipython3",
   "version": "3.9.6"
  }
 },
 "nbformat": 4,
 "nbformat_minor": 2
}
